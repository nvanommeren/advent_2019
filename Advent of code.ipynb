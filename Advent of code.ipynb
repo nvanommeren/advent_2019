{
 "cells": [
  {
   "cell_type": "code",
   "execution_count": 3,
   "metadata": {},
   "outputs": [],
   "source": [
    "import pandas as pd\n",
    "import numpy as np"
   ]
  },
  {
   "cell_type": "markdown",
   "metadata": {},
   "source": [
    "# Day 1\n",
    "\n",
    "Fuel required to launch a given module is based on its mass. Specifically, to find the fuel required for a module, take its mass, divide by three, round down, and subtract 2."
   ]
  },
  {
   "cell_type": "code",
   "execution_count": 25,
   "metadata": {},
   "outputs": [],
   "source": [
    "df = pd.read_csv('day1.txt', sep='\\n', header=None)"
   ]
  },
  {
   "cell_type": "code",
   "execution_count": 32,
   "metadata": {},
   "outputs": [
    {
     "data": {
      "text/plain": [
       "3442987"
      ]
     },
     "execution_count": 32,
     "metadata": {},
     "output_type": "execute_result"
    }
   ],
   "source": [
    "def fuel(mass):\n",
    "    return int(mass / 3) - 2\n",
    "\n",
    "np.sum(df.apply(lambda x: fuel(x[0]), axis=1))"
   ]
  },
  {
   "cell_type": "code",
   "execution_count": 40,
   "metadata": {},
   "outputs": [],
   "source": [
    "def fuel_recursive(mass):\n",
    "    \n",
    "    total_fuel = fuel(mass)\n",
    "    mass = total_fuel\n",
    "    mass = fuel(mass)\n",
    "\n",
    "    while (mass > 0):\n",
    "        total_fuel += mass\n",
    "        mass = fuel(mass)\n",
    "    return total_fuel"
   ]
  },
  {
   "cell_type": "code",
   "execution_count": 43,
   "metadata": {},
   "outputs": [
    {
     "data": {
      "text/plain": [
       "5161601"
      ]
     },
     "execution_count": 43,
     "metadata": {},
     "output_type": "execute_result"
    }
   ],
   "source": [
    "np.sum(df.apply(lambda x: fuel_recursive(x[0]), axis=1))"
   ]
  },
  {
   "cell_type": "markdown",
   "metadata": {},
   "source": [
    "# Day 2"
   ]
  },
  {
   "cell_type": "code",
   "execution_count": 76,
   "metadata": {},
   "outputs": [],
   "source": [
    "def opcode(l, start_opcode, func):\n",
    "    p1 = l[1 + start_opcode]\n",
    "    p2 = l[2 + start_opcode]\n",
    "    p3 = l[3 + start_opcode]\n",
    "    l[p3] = func(l[p1], l[p2])\n",
    "\n",
    "def apply_opcode(l, start_opcode):\n",
    "    if l[start_opcode] == 1:\n",
    "        opcode(l, start_opcode, lambda x, y: x + y)\n",
    "    elif l[start_opcode] == 2:\n",
    "        opcode(l, start_opcode, lambda x, y: x * y)\n",
    "    "
   ]
  },
  {
   "cell_type": "code",
   "execution_count": 85,
   "metadata": {},
   "outputs": [
    {
     "name": "stdout",
     "output_type": "stream",
     "text": [
      "7594646\n"
     ]
    }
   ],
   "source": [
    "l = list(pd.read_csv('day2.txt', sep=',', header=None).values)[0]\n",
    "l[1] = 12\n",
    "l[2] = 2\n",
    "\n",
    "start_opcode = 0\n",
    "while (l[start_opcode] != 99):\n",
    "    apply_opcode(l, start_opcode)\n",
    "    start_opcode += 4\n",
    "print(l[0])"
   ]
  },
  {
   "cell_type": "code",
   "execution_count": 88,
   "metadata": {},
   "outputs": [
    {
     "data": {
      "text/plain": [
       "7594646"
      ]
     },
     "execution_count": 88,
     "metadata": {},
     "output_type": "execute_result"
    }
   ],
   "source": [
    "answer = 19690720\n",
    "\n",
    "def get_answer(noun, verb):\n",
    "    l = list(pd.read_csv('day2.txt', sep=',', header=None).values)[0]\n",
    "    l[1] = noun\n",
    "    l[2] = verb\n",
    "\n",
    "    start_opcode = 0\n",
    "    while (l[start_opcode] != 99):\n",
    "        apply_opcode(l, start_opcode)\n",
    "        start_opcode += 4\n",
    "    return l[0]\n",
    "\n",
    "def find_noun_verb(answer):\n",
    "    for noun in range(0, 99):\n",
    "        for verb in range(0, 99):\n",
    "            if get_answer(noun, verb) == answer:\n",
    "                return (noun, verb)\n",
    "            \n",
    "noun, verb = find_noun_verb(answer)\n",
    "\n",
    "print(noun, verb)\n",
    "print(100 * noun + verb)"
   ]
  },
  {
   "cell_type": "markdown",
   "metadata": {},
   "source": [
    "# Day 3"
   ]
  },
  {
   "cell_type": "code",
   "execution_count": 164,
   "metadata": {},
   "outputs": [],
   "source": [
    "class Wire:\n",
    "    def __init__(self):\n",
    "        self.x = 0\n",
    "        self.y = 0\n",
    "        self.coordinates = []\n",
    "    \n",
    "    def read_path(self, path):\n",
    "        for c in path:\n",
    "            self.read(c)\n",
    "        return set(self.coordinates)\n",
    "    \n",
    "    def read(self, c):\n",
    "        direction = c[0]\n",
    "        n = int(c[1:])\n",
    "        if direction == \"R\":\n",
    "            self.move_horizontal(self.x + n, 1)\n",
    "        elif direction == \"L\":\n",
    "            self.move_horizontal(self.x - n, -1)\n",
    "        elif direction == \"U\":\n",
    "            self.move_vertical(self.y + n, 1)\n",
    "        elif direction == \"D\":\n",
    "            self.move_vertical(self.y - n, -1)\n",
    "        \n",
    "    def move_horizontal(self, end_x, direction):\n",
    "        for i in range(self.x, end_x, direction):\n",
    "            self.coordinates.append((i, self.y))\n",
    "        self.x = end_x\n",
    "    \n",
    "    def move_vertical(self, end_y, direction):\n",
    "        for i in range(self.y, end_y, direction):\n",
    "            self.coordinates.append((self.x, i))\n",
    "        self.y = end_y\n",
    "    \n",
    "    def steps_to_location(self, x, y):\n",
    "        if (x, y) not in self.coordinates:\n",
    "            print(\"Not found\")\n",
    "            return\n",
    "        return self.coordinates.index((x, y))\n",
    "    \n",
    "    def __repr__(self):\n",
    "        return f\"{self.x}, {self.y}\"\n",
    "\n",
    "df = pd.read_csv('./day3.txt', header=None)\n",
    "    \n",
    "p1 = list(df.iloc[0, :])\n",
    "p2 = list(df.iloc[1, :])    \n",
    "\n",
    "w1 = Wire()\n",
    "c1 = w1.read_path(p1)\n",
    "\n",
    "w2 = Wire()\n",
    "c2 = w2.read_path(p2)\n",
    "\n",
    "intersections = c1.intersection(c2)\n",
    "    "
   ]
  },
  {
   "cell_type": "code",
   "execution_count": 165,
   "metadata": {},
   "outputs": [
    {
     "data": {
      "text/plain": [
       "1211"
      ]
     },
     "execution_count": 165,
     "metadata": {},
     "output_type": "execute_result"
    }
   ],
   "source": [
    "results = {}\n",
    "\n",
    "for x, y in intersections:\n",
    "    results[abs(x) + abs(y)] = (x, y)\n",
    "\n",
    "sorted(results)[1]"
   ]
  },
  {
   "cell_type": "code",
   "execution_count": 178,
   "metadata": {},
   "outputs": [
    {
     "data": {
      "text/plain": [
       "101386"
      ]
     },
     "execution_count": 178,
     "metadata": {},
     "output_type": "execute_result"
    }
   ],
   "source": [
    "w1.coordinates.index((1, 0))\n",
    "total_steps = {}\n",
    "\n",
    "for x, y in intersections:\n",
    "    total_steps[w1.steps_to_location(x, y) + w2.steps_to_location(x, y)] = (x, y)\n",
    "    \n",
    "sorted(total_steps)[1]"
   ]
  },
  {
   "cell_type": "markdown",
   "metadata": {},
   "source": [
    "# Day 4\n",
    "\n",
    "* It is a six-digit number.\n",
    "* The value is within the range given in your puzzle input.\n",
    "* Two adjacent digits are the same (like 22 in 122345).\n",
    "* Going from left to right, the digits never decrease; they only ever increase or stay the same (like 111123 or 135679).\n",
    "\n",
    "Input: 264360-746325"
   ]
  },
  {
   "cell_type": "code",
   "execution_count": 327,
   "metadata": {},
   "outputs": [
    {
     "data": {
      "text/plain": [
       "945"
      ]
     },
     "execution_count": 327,
     "metadata": {},
     "output_type": "execute_result"
    }
   ],
   "source": [
    "puzzle_input = range(264360, 746325)\n",
    "\n",
    "def six_digits(n):\n",
    "    return n >= 10**5 and n < 10**6\n",
    "\n",
    "def two_same_digits(n):\n",
    "    return np.any([n[i] == n[i+1] for i in range(len(n) - 1)])\n",
    "\n",
    "def increasing_digits(n):\n",
    "    return np.all([n[i] <= n[i+1] for i in range(len(n) - 1)])\n",
    "\n",
    "def part_a(i):\n",
    "    if not six_digits(i):\n",
    "        return False\n",
    "    if not two_same_digits(str(i)):\n",
    "        return False\n",
    "    if not increasing_digits(str(i)):\n",
    "        return False\n",
    "    return True\n",
    "\n",
    "result = [i for i in puzzle_input if part_a(i)]\n",
    "        \n",
    "len(result)"
   ]
  },
  {
   "cell_type": "code",
   "execution_count": 325,
   "metadata": {},
   "outputs": [
    {
     "data": {
      "text/plain": [
       "617"
      ]
     },
     "execution_count": 325,
     "metadata": {},
     "output_type": "execute_result"
    }
   ],
   "source": [
    "def only_two_same_digits(n):\n",
    "    t = \"x\" + n + \"x\"\n",
    "    return np.any([ (t[i] == t[i+1]) \n",
    "               and  (t[i+1] != t[i+2])\n",
    "               and  (t[i-1] != t[i]) for i in range(1, len(n))])\n",
    "\n",
    "def part_b(i):\n",
    "    if not six_digits(i):\n",
    "        return False\n",
    "    if not only_two_same_digits(str(i)):\n",
    "        return False\n",
    "    if not increasing_digits(str(i)):\n",
    "        return False\n",
    "    return True\n",
    "\n",
    "result = [i for i in puzzle_input if part_b(i)]\n",
    "\n",
    "len(result)"
   ]
  },
  {
   "cell_type": "markdown",
   "metadata": {},
   "source": [
    "# Day 5\n",
    "\n",
    "* Opcode 3 takes a single integer as input and saves it to the position given by its only parameter. For example, the instruction 3,50 would take an input value and store it at address 50.\n",
    "* Opcode 4 outputs the value of its only parameter. For example, the instruction 4,50 would output the value at address 50."
   ]
  },
  {
   "cell_type": "code",
   "execution_count": 4,
   "metadata": {},
   "outputs": [
    {
     "name": "stdout",
     "output_type": "stream",
     "text": [
      "Test: 0\n",
      "Test: 0\n",
      "Test: 0\n",
      "Test: 0\n",
      "Test: 0\n",
      "Test: 0\n",
      "Test: 0\n",
      "Test: 0\n",
      "Test: 0\n",
      "Test: 5346030\n"
     ]
    }
   ],
   "source": [
    "class Terminal:\n",
    "    \n",
    "    def __init__(self, filename: str):\n",
    "        self.filename = filename\n",
    "        self.l = []\n",
    "        \n",
    "        self.end_signal = 99\n",
    "        self.pointer = 0\n",
    "        \n",
    "    def run(self, user_input):\n",
    "        \n",
    "        self.l = list(pd.read_csv(self.filename, sep=',', header=None).values)[0]\n",
    "        \n",
    "        while (self.l[self.pointer] != self.end_signal):  \n",
    "            self.pointer += self.apply_opcode(user_input)\n",
    "                \n",
    "    def set_opcode(self, func, param_modes: list):\n",
    "        param1 = self.get_param(self.l[1 + self.pointer], param_modes[0])\n",
    "        param2 = self.get_param(self.l[2 + self.pointer], param_modes[1])\n",
    "        param3 = self.l[3 + self.pointer]\n",
    "        self.l[param3] = func(param1, param2)\n",
    "\n",
    "    def get_param(self, p1, mode):    \n",
    "        if mode == 0:\n",
    "            return self.l[p1]\n",
    "        return p1\n",
    "\n",
    "    def opcode_input(self, user_input):\n",
    "        p1 = self.l[self.pointer + 1]\n",
    "        self.l[p1] = user_input\n",
    "\n",
    "    def opcode_output(self, param_modes: list):\n",
    "        p1 = self.l[self.pointer + 1]\n",
    "        param1 = self.get_param(p1, param_modes[0])\n",
    "        print(f\"Test: {param1}\")\n",
    "\n",
    "    def parse_param_modes(self, param_str: str):\n",
    "\n",
    "        param_str = list(reversed(param_str))\n",
    "        opcode = int(param_str[0])\n",
    "        param_modes = [0] * 3\n",
    "        for i in range(0, len(param_str) - 2):\n",
    "            param_modes[i] = int(param_str[i + 2])\n",
    "        return opcode, param_modes\n",
    "\n",
    "    def apply_opcode(self, user_input):\n",
    "        opcode, param_modes = self.parse_param_modes(str(self.l[self.pointer]))\n",
    "        if opcode == 1:\n",
    "            self.set_opcode(lambda x, y: x + y, param_modes)\n",
    "            return 4\n",
    "        elif opcode == 2:\n",
    "            self.set_opcode(lambda x, y: x * y, param_modes)\n",
    "            return 4\n",
    "        elif opcode == 3:\n",
    "            self.opcode_input(user_input)\n",
    "            return 2\n",
    "        elif opcode == 4:\n",
    "            self.opcode_output(param_modes)\n",
    "            return 2\n",
    "        else:\n",
    "            print(f\"Error: {self.l[self.pointer]}\")\n",
    "            return 0\n",
    "        \n",
    "test = Terminal('day5.txt')\n",
    "test.run(user_input=1)"
   ]
  },
  {
   "cell_type": "markdown",
   "metadata": {},
   "source": [
    "## Part b\n",
    "\n",
    "* Opcode 5 is jump-if-true: if the first parameter is non-zero, it sets the instruction pointer to the value from the second parameter. Otherwise, it does nothing.\n",
    "* Opcode 6 is jump-if-false: if the first parameter is zero, it sets the instruction pointer to the value from the second parameter. Otherwise, it does nothing.\n",
    "* Opcode 7 is less than: if the first parameter is less than the second parameter, it stores 1 in the position given by the third parameter. Otherwise, it stores 0.\n",
    "* Opcode 8 is equals: if the first parameter is equal to the second parameter, it stores 1 in the position given by the third parameter. Otherwise, it stores 0."
   ]
  },
  {
   "cell_type": "code",
   "execution_count": 48,
   "metadata": {},
   "outputs": [
    {
     "name": "stdout",
     "output_type": "stream",
     "text": [
      "Test: 1998926\n"
     ]
    }
   ],
   "source": [
    "class Terminal:\n",
    "    \n",
    "    def __init__(self, filename: str):\n",
    "        self.filename = filename\n",
    "        self.l = []\n",
    "        \n",
    "        self.end_signal = 99\n",
    "        self.pointer = 0\n",
    "        \n",
    "    def run(self, user_input):\n",
    "        \n",
    "        self.l = list(pd.read_csv(self.filename, sep=',', header=None).values)[0]\n",
    "        \n",
    "        while (self.l[self.pointer] != self.end_signal):  \n",
    "            self.apply_opcode(user_input)\n",
    "            \n",
    "    def run_test(self, test_list, user_input):\n",
    "        self.l = test_list\n",
    "        \n",
    "        while (self.l[self.pointer] != self.end_signal):  \n",
    "            self.apply_opcode(user_input)\n",
    "                \n",
    "    def set_opcode(self, func, param_modes: list):\n",
    "        param1 = self.get_param(1 + self.pointer, param_modes[0])\n",
    "        param2 = self.get_param(2 + self.pointer, param_modes[1])\n",
    "        param3 = self.l[3 + self.pointer]\n",
    "        self.l[param3] = func(param1, param2)\n",
    "        self.pointer += 4\n",
    "\n",
    "    def get_param(self, location, mode):\n",
    "        p1 = self.l[location]\n",
    "        if mode == 0:\n",
    "            return self.l[p1]\n",
    "        return p1\n",
    "\n",
    "    def opcode_input(self, user_input):\n",
    "        p1 = self.l[self.pointer + 1]\n",
    "        self.l[p1] = user_input\n",
    "        self.pointer += 2\n",
    "\n",
    "    def opcode_output(self, param_modes: list):\n",
    "        param1 = self.get_param(self.pointer + 1, param_modes[0])\n",
    "        print(f\"Test: {param1}\")\n",
    "        self.pointer += 2\n",
    "        \n",
    "    def opcode_jump_if(self, param_modes: list, func):\n",
    "        param1 = self.get_param(self.pointer + 1, param_modes[0])\n",
    "        param2 = self.get_param(self.pointer + 2, param_modes[1])\n",
    "        \n",
    "        if func(param1):\n",
    "            self.pointer = param2\n",
    "        else:\n",
    "            self.pointer += 3\n",
    "            \n",
    "    def opcode_compare(self, param_modes: list, func):\n",
    "        param1 = self.get_param(self.pointer + 1, param_modes[0])\n",
    "        param2 = self.get_param(self.pointer + 2, param_modes[1])\n",
    "        param3 =  self.get_param(self.pointer + 3, param_modes[2])\n",
    "        if func(param1, param2):\n",
    "            self.l[param3] = 1\n",
    "        else:\n",
    "            self.l[param3] = 0\n",
    "        self.pointer += 4\n",
    "\n",
    "    def parse_param_modes(self, param_str: str):\n",
    "\n",
    "        param_str = list(reversed(param_str))\n",
    "        opcode = int(param_str[0])\n",
    "        param_modes = [0] * 3\n",
    "        for i in range(0, len(param_str) - 2):\n",
    "            param_modes[i] = int(param_str[i + 2])\n",
    "        return opcode, param_modes\n",
    "\n",
    "    def apply_opcode(self, user_input):\n",
    "        opcode, param_modes = self.parse_param_modes(str(self.l[self.pointer]))\n",
    "        if opcode == 1:\n",
    "            self.set_opcode(lambda x, y: x + y, param_modes)\n",
    "        elif opcode == 2:\n",
    "            self.set_opcode(lambda x, y: x * y, param_modes)\n",
    "        elif opcode == 3:\n",
    "            self.opcode_input(user_input)\n",
    "        elif opcode == 4:\n",
    "            self.opcode_output(param_modes)\n",
    "        elif opcode == 5:\n",
    "            self.opcode_jump_if(param_modes, lambda x: x != 0)\n",
    "        elif opcode == 6:\n",
    "            self.opcode_jump_if(param_modes, lambda x: x == 0)\n",
    "        elif opcode == 7:\n",
    "            self.opcode_compare(param_modes, lambda x, y: x < y)\n",
    "        elif opcode == 8:\n",
    "            self.opcode_compare(param_modes, lambda x, y: x == y)\n",
    "        else:\n",
    "            print(f\"Error: {self.l[self.pointer]}\")\n",
    "\n",
    "terminal2 = Terminal('day5.txt')\n",
    "l = [3,12,6,12,15,1,13,14,13,4,13,99,-1,0,1,9]\n",
    "terminal2.run(5)        "
   ]
  },
  {
   "cell_type": "code",
   "execution_count": null,
   "metadata": {},
   "outputs": [],
   "source": []
  }
 ],
 "metadata": {
  "kernelspec": {
   "display_name": "Python 3",
   "language": "python",
   "name": "python3"
  },
  "language_info": {
   "codemirror_mode": {
    "name": "ipython",
    "version": 3
   },
   "file_extension": ".py",
   "mimetype": "text/x-python",
   "name": "python",
   "nbconvert_exporter": "python",
   "pygments_lexer": "ipython3",
   "version": "3.6.9"
  }
 },
 "nbformat": 4,
 "nbformat_minor": 2
}
